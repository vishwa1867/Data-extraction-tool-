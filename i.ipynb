{
 "cells": [
  {
   "cell_type": "code",
   "execution_count": 1,
   "id": "2d0a2200",
   "metadata": {},
   "outputs": [
    {
     "name": "stderr",
     "output_type": "stream",
     "text": [
      "'apt-get' is not recognized as an internal or external command,\n",
      "operable program or batch file.\n",
      "'apt-get' is not recognized as an internal or external command,\n",
      "operable program or batch file.\n"
     ]
    }
   ],
   "source": [
    "!apt-get update\n",
    "!apt-get install poppler-utils ttf-mscorefonts-installer msttcorefonts fonts-crosextra-caladea fonts-crosextra-carlito gsfonts lcdf-typetools"
   ]
  },
  {
   "cell_type": "code",
   "execution_count": 3,
   "id": "c33bb419",
   "metadata": {},
   "outputs": [],
   "source": [
    "!pip -q install transformers\n"
   ]
  },
  {
   "cell_type": "code",
   "execution_count": 4,
   "id": "316123fe",
   "metadata": {},
   "outputs": [],
   "source": [
    "!pip -q install pdfreport\n",
    "\n"
   ]
  },
  {
   "cell_type": "code",
   "execution_count": 5,
   "id": "8d099124",
   "metadata": {},
   "outputs": [],
   "source": [
    "!pip -q install PyPDF2\n"
   ]
  },
  {
   "cell_type": "code",
   "execution_count": 6,
   "id": "9634847d",
   "metadata": {},
   "outputs": [
    {
     "name": "stderr",
     "output_type": "stream",
     "text": [
      "ERROR: Could not find a version that satisfies the requirement sgl-kernel==0.0.3.post1 (from versions: 0.0.1)\n",
      "ERROR: No matching distribution found for sgl-kernel==0.0.3.post1\n"
     ]
    }
   ],
   "source": [
    "!pip -q install sgl-kernel==0.0.3.post1 --force-reinstall --no-deps\n"
   ]
  },
  {
   "cell_type": "code",
   "execution_count": 7,
   "id": "1a7284e2",
   "metadata": {},
   "outputs": [
    {
     "name": "stderr",
     "output_type": "stream",
     "text": [
      "ERROR: Could not find a version that satisfies the requirement sgl-kernel>=0.0.3; extra == \"srt\" (from sglang[srt]) (from versions: 0.0.1)\n",
      "ERROR: No matching distribution found for sgl-kernel>=0.0.3; extra == \"srt\"\n"
     ]
    }
   ],
   "source": [
    "!pip -q install \"sglang[all]==0.4.2\" --find-links https://flashinfer.ai/whl/cu124/torch2.4/flashinfer/"
   ]
  },
  {
   "cell_type": "code",
   "execution_count": null,
   "id": "f650b746",
   "metadata": {},
   "outputs": [],
   "source": []
  }
 ],
 "metadata": {
  "kernelspec": {
   "display_name": "base",
   "language": "python",
   "name": "python3"
  },
  "language_info": {
   "codemirror_mode": {
    "name": "ipython",
    "version": 3
   },
   "file_extension": ".py",
   "mimetype": "text/x-python",
   "name": "python",
   "nbconvert_exporter": "python",
   "pygments_lexer": "ipython3",
   "version": "3.12.4"
  }
 },
 "nbformat": 4,
 "nbformat_minor": 5
}
